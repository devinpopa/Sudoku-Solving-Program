{
 "cells": [
  {
   "cell_type": "markdown",
   "metadata": {},
   "source": [
    "# Sudoku Solving Program"
   ]
  },
  {
   "cell_type": "markdown",
   "metadata": {},
   "source": [
    "## Devin Popa"
   ]
  },
  {
   "cell_type": "markdown",
   "metadata": {},
   "source": [
    "This program solves sudoku puzzles (represented as nested lists) by implementing a backtracking algorithm described by the \"Sudoku solving algorithms\" Wikipedia page.  Starting at the first empty cell in the puzzle, check if 1 is a viable number based on the known numbers in the row, column, and 3x3 square that contain the query cell.  If 1 is a viable entry, move on to the next cell.  If it is not, increment the value in the cell until a viable number is found.  If the numbers 1-9 are not viable entries for a given cell, reset the value of the cell as empty and adjust the values of previous cells until a new permutation of entries works.  This process is repeated until there are no empty cells left in the puzzle."
   ]
  },
  {
   "cell_type": "code",
   "execution_count": 1,
   "metadata": {},
   "outputs": [],
   "source": [
    "# Used to test some puzzles and match known solutions\n",
    "import unittest"
   ]
  },
  {
   "cell_type": "code",
   "execution_count": 2,
   "metadata": {},
   "outputs": [],
   "source": [
    "# Helper method to determine whether or not a row of the puzzle contains a specific number\n",
    "# Parameters: puzzle, row number, column number, query value\n",
    "def row_contains(grid, i, j, n):\n",
    "    for y in range(9):\n",
    "        if grid[i][y] == n and y != j:\n",
    "            return True\n",
    "    return False\n",
    "\n",
    "# Helper method to determine whether or not a column of the puzzle contains a specific number\n",
    "# Parameters: puzzle, row number, column number, query value\n",
    "def col_contains(grid, i, j, n):\n",
    "    for x in range(9):\n",
    "        if grid[x][j] == n and x != i:\n",
    "            return True\n",
    "    return False\n"
   ]
  },
  {
   "cell_type": "code",
   "execution_count": 3,
   "metadata": {},
   "outputs": [],
   "source": [
    "# Helper method to determine whether or not the 3x3 square that contains a cell also contains the value of the cell\n",
    "# in a different cell within the enclosing space\n",
    "# Parameters: refer to the previous helper methods\n",
    "def sq_contains(grid, i, j, n):\n",
    "    # Checks top-left square\n",
    "    if i / 3 >= 0 and i / 3 < 1 and j / 3 >= 0 and j / 3 < 1:\n",
    "        for x in range(3):\n",
    "            for y in range(3):\n",
    "                if grid[x][y] == n and x != i and y != j:\n",
    "                    return True\n",
    "    \n",
    "    # Checks top-middle square\n",
    "    if i / 3 >= 1 and i / 3 < 2 and j / 3 >= 0 and j / 3 < 1:\n",
    "        for x in range(3, 6):\n",
    "            for y in range(3):\n",
    "                if grid[x][y] == n and x != i and y != j:\n",
    "                    return True\n",
    "    \n",
    "    # Checks top-right square\n",
    "    if i / 3 >= 2 and i / 3 < 3 and j / 3 >= 0 and j / 3 < 1:\n",
    "        for x in range(6, 9):\n",
    "            for y in range(3):\n",
    "                if grid[x][y] == n and x != i and y != j:\n",
    "                    return True\n",
    "    \n",
    "    # Checks center-left square\n",
    "    if i / 3 >= 0 and i / 3 < 1 and j / 3 >= 1 and j / 3 < 2:\n",
    "        for x in range(3):\n",
    "            for y in range(3, 6):\n",
    "                if grid[x][y] == n and x != i and y != j:\n",
    "                    return True\n",
    "    \n",
    "    # Checks center square\n",
    "    if i / 3 >= 1 and i / 3 < 2 and j / 3 >= 1 and j / 3 < 2:\n",
    "        for x in range(3, 6):\n",
    "            for y in range(3, 6):\n",
    "                if grid[x][y] == n and x != i and y != j:\n",
    "                    return True\n",
    "    \n",
    "    # Checks center-right square\n",
    "    if i / 3 >= 2 and i / 3 < 3 and j / 3 >= 1 and j / 3 < 2:\n",
    "        for x in range(6, 9):\n",
    "            for y in range(3, 6):\n",
    "                if grid[x][y] == n and x != i and y != j:\n",
    "                    return True\n",
    "    \n",
    "    # Checks bottom-left square\n",
    "    if i / 3 >= 0 and i / 3 < 1 and j / 3 >= 2 and j / 3 < 3:\n",
    "        for x in range(3):\n",
    "            for y in range(6, 9):\n",
    "                if grid[x][y] == n and x != i and y != j:\n",
    "                    return True\n",
    "    \n",
    "    # Checks bottom-middle square\n",
    "    if i / 3 >= 1 and i / 3 < 2 and j / 3 >= 2 and j / 3 < 3:\n",
    "        for x in range(3, 6):\n",
    "            for y in range(6, 9):\n",
    "                if grid[x][y] == n and x != i and y != j:\n",
    "                    return True\n",
    "    \n",
    "    # Checks bottom-right square\n",
    "    if i / 3 >= 2 and i / 3 < 3 and j / 3 >= 2 and j / 3 < 3:\n",
    "        for x in range(6, 9):\n",
    "            for y in range(6, 9):\n",
    "                if grid[x][y] == n and x != i and y != j:\n",
    "                    return True\n",
    "                    \n",
    "    return False\n"
   ]
  },
  {
   "cell_type": "code",
   "execution_count": 4,
   "metadata": {},
   "outputs": [],
   "source": [
    "# Uses the previous three helper methods to determine whether or not a cell is a valid location\n",
    "# for a given number n\n",
    "def is_valid_loc(grid, i, j, n):\n",
    "    return ((not row_contains(grid, i, j, n)) and (not col_contains(grid, i, j, n)) \n",
    "            and (not sq_contains(grid, i, j, n)))"
   ]
  },
  {
   "cell_type": "code",
   "execution_count": 5,
   "metadata": {},
   "outputs": [],
   "source": [
    "# Finds the next empty cell of a puzzle\n",
    "# Parameters: puzzle, location (given as list containing row number and column number)\n",
    "def find_empty_cell(grid, loc):\n",
    "    for i in range(9):\n",
    "        for j in range(9):\n",
    "            if grid[i][j] == 0:\n",
    "                loc[0] = i\n",
    "                loc[1] = j\n",
    "                return True\n",
    "    return False"
   ]
  },
  {
   "cell_type": "code",
   "execution_count": 6,
   "metadata": {},
   "outputs": [],
   "source": [
    "# Finds the solution to a given puzzle and update the values of empty cells\n",
    "def solve(grid):\n",
    "    # Starting location: cell in the top-left corner of the puzzle\n",
    "    loc = [0, 0]\n",
    "    \n",
    "    # Algorithm ends when there are no more empty cells in the puzzle\n",
    "    if not find_empty_cell(grid, loc):\n",
    "        return True\n",
    "    \n",
    "    i = loc[0]\n",
    "    j = loc[1]\n",
    "    \n",
    "    # Check numbers 1-9 in the given cell\n",
    "    for n in range(1, 10):\n",
    "        if is_valid_loc(grid, i, j, n):\n",
    "            grid[i][j] = n\n",
    "            \n",
    "            # Check if the puzzle is solved and return true if it is\n",
    "            if solve(grid):\n",
    "                return True\n",
    "            \n",
    "            grid[i][j] = 0\n",
    "    # Return false if there is no valid solution to the puzzle\n",
    "    return False"
   ]
  },
  {
   "cell_type": "markdown",
   "metadata": {},
   "source": [
    "### Tests"
   ]
  },
  {
   "cell_type": "markdown",
   "metadata": {},
   "source": [
    "The following three test cases show an easy, a medium, and a hard difficulty puzzle all being solved correctly."
   ]
  },
  {
   "cell_type": "code",
   "execution_count": 8,
   "metadata": {},
   "outputs": [
    {
     "name": "stderr",
     "output_type": "stream",
     "text": [
      "test_easy (__main__.Tests) ... ok\n",
      "test_hard (__main__.Tests) ... ok\n",
      "test_medium (__main__.Tests) ... ok\n",
      "\n",
      "----------------------------------------------------------------------\n",
      "Ran 3 tests in 0.545s\n",
      "\n",
      "OK\n"
     ]
    },
    {
     "data": {
      "text/plain": [
       "<unittest.main.TestProgram at 0x107f2dc50>"
      ]
     },
     "execution_count": 8,
     "metadata": {},
     "output_type": "execute_result"
    }
   ],
   "source": [
    " class Tests(unittest.TestCase):\n",
    "    def test_easy(self):\n",
    "        puzzle = [[6, 0, 0, 0, 5, 0, 0, 9, 0],\n",
    "                 [2, 9, 0, 3, 0, 0, 8, 0, 5],\n",
    "                 [5, 0, 7, 0, 1, 0, 0, 0, 0],\n",
    "                 [0, 5, 0, 4, 3, 0, 0, 0, 9],\n",
    "                 [0, 1, 0, 9, 0, 7, 0, 2, 0],\n",
    "                 [3, 0, 0, 0, 8, 5, 0, 4, 0],\n",
    "                 [0, 0, 0, 0, 9, 0, 7, 0, 8],\n",
    "                 [8, 0, 3, 0, 0, 4, 0, 1, 6],\n",
    "                 [0, 6, 0, 0, 7, 0, 0, 0, 2]]\n",
    "    \n",
    "        solution = [[6, 3, 4, 7, 5, 8, 2, 9, 1], \n",
    "                    [2, 9, 1, 3, 4, 6, 8, 7, 5], \n",
    "                    [5, 8, 7, 2, 1, 9, 3, 6, 4], \n",
    "                    [7, 5, 6, 4, 3, 2, 1, 8, 9], \n",
    "                    [4, 1, 8, 9, 6, 7, 5, 2, 3], \n",
    "                    [3, 2, 9, 1, 8, 5, 6, 4, 7], \n",
    "                    [1, 4, 2, 6, 9, 3, 7, 5, 8], \n",
    "                    [8, 7, 3, 5, 2, 4, 9, 1, 6], \n",
    "                    [9, 6, 5, 8, 7, 1, 4, 3, 2]]\n",
    "    \n",
    "        self.assertTrue(solve(puzzle))\n",
    "        self.assertEqual(puzzle, solution)\n",
    "        \n",
    "    def test_medium(self):\n",
    "        puzzle = [[0, 0, 0, 0, 0, 0, 6, 8, 0],\n",
    "                  [0, 0, 0, 0, 7, 3, 0, 0, 9],\n",
    "                  [3, 0, 9, 0, 0, 0, 0, 4, 5],\n",
    "                  [4, 9, 0, 0, 0, 0, 0, 0, 0],\n",
    "                  [8, 0, 3, 0, 5, 0, 9, 0, 2],\n",
    "                  [0, 0, 0, 0, 0, 0, 0, 3, 6],\n",
    "                  [9, 6, 0, 0, 0, 0, 3, 0, 8],\n",
    "                  [7, 0, 0, 6, 8, 0, 0, 0, 0],\n",
    "                  [0, 2, 8, 0, 0, 0, 0, 0, 0]]\n",
    "        \n",
    "        solution = [[1, 7, 2, 5, 4, 9, 6, 8, 3],\n",
    "                    [6, 4, 5, 8, 7, 3, 2, 1, 9],\n",
    "                    [3, 8, 9, 2, 6, 1, 7, 4, 5],\n",
    "                    [4, 9, 6, 3, 2, 7, 8, 5, 1],\n",
    "                    [8, 1, 3, 4, 5, 6, 9, 7, 2],\n",
    "                    [2, 5, 7, 1, 9, 8, 4, 3, 6],\n",
    "                    [9, 6, 4, 7, 1, 5, 3, 2, 8],\n",
    "                    [7, 3, 1, 6, 8, 2, 5, 9, 4],\n",
    "                    [5, 2, 8, 9, 3, 4, 1, 6, 7]]\n",
    "        \n",
    "        self.assertTrue(solve(puzzle))\n",
    "        self.assertEqual(puzzle, solution)\n",
    "        \n",
    "    def test_hard(self):\n",
    "        puzzle = [[8, 1, 0, 0, 0, 0, 0, 0, 0],\n",
    "                 [6, 7, 0, 0, 2, 8, 0, 0, 0],\n",
    "                 [0, 0, 2, 0, 0, 5, 9, 0, 0],\n",
    "                 [0, 0, 0, 9, 0, 0, 1, 0, 0],\n",
    "                 [2, 0, 0, 0, 8, 0, 0, 0, 6],\n",
    "                 [0, 0, 4, 0, 0, 3, 0, 0, 0],\n",
    "                 [0, 0, 3, 1, 0, 0, 6, 0, 0],\n",
    "                 [0, 0, 0, 5, 6, 0, 0, 8, 7],\n",
    "                 [0, 0, 0, 0, 0, 0, 0, 1, 4]]\n",
    "        \n",
    "        solution = [[8, 1, 5, 6, 9, 4, 7, 2, 3], \n",
    "                    [6, 7, 9, 3, 2, 8, 4, 5, 1], \n",
    "                    [3, 4, 2, 7, 1, 5, 9, 6, 8], \n",
    "                    [5, 3, 8, 9, 7, 6, 1, 4, 2], \n",
    "                    [2, 9, 7, 4, 8, 1, 5, 3, 6], \n",
    "                    [1, 6, 4, 2, 5, 3, 8, 7, 9], \n",
    "                    [7, 8, 3, 1, 4, 2, 6, 9, 5], \n",
    "                    [4, 2, 1, 5, 6, 9, 3, 8, 7], \n",
    "                    [9, 5, 6, 8, 3, 7, 2, 1, 4]]\n",
    "        \n",
    "        self.assertTrue(solve(puzzle))\n",
    "        self.assertEqual(puzzle, solution)\n",
    "        \n",
    "unittest.main(argv=[''], verbosity=2, exit=False)"
   ]
  },
  {
   "cell_type": "code",
   "execution_count": null,
   "metadata": {},
   "outputs": [],
   "source": []
  }
 ],
 "metadata": {
  "kernelspec": {
   "display_name": "Python 3",
   "language": "python",
   "name": "python3"
  },
  "language_info": {
   "codemirror_mode": {
    "name": "ipython",
    "version": 3
   },
   "file_extension": ".py",
   "mimetype": "text/x-python",
   "name": "python",
   "nbconvert_exporter": "python",
   "pygments_lexer": "ipython3",
   "version": "3.6.5"
  }
 },
 "nbformat": 4,
 "nbformat_minor": 2
}
